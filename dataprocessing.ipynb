{
 "cells": [
  {
   "cell_type": "markdown",
   "metadata": {},
   "source": [
    "# import libraries"
   ]
  },
  {
   "cell_type": "code",
   "execution_count": 1,
   "metadata": {},
   "outputs": [],
   "source": [
    "import numpy as np\n",
    "import pandas as pd\n",
    "import matplotlib.pyplot as ply\n",
    "import cv2\n",
    "import os\n",
    "from os import listdir\n",
    "from os.path import isfile,join\n",
    "from PIL import Image"
   ]
  },
  {
   "cell_type": "markdown",
   "metadata": {},
   "source": [
    "# load image function"
   ]
  },
  {
   "cell_type": "code",
   "execution_count": 2,
   "metadata": {},
   "outputs": [],
   "source": [
    "def load_images(folder):\n",
    "    train_data=[]\n",
    "    count=0\n",
    "    for filename in os.listdir(folder):\n",
    "        if count>=2000:\n",
    "            break\n",
    "        img = cv2.imread(os.path.join(folder,filename),cv2.IMREAD_GRAYSCALE)\n",
    "        img=~img\n",
    "        if img is not None:\n",
    "            _,thresh=cv2.threshold(img,127,255,cv2.THRESH_BINARY)\n",
    "            ctrs,_=cv2.findContours(thresh,cv2.RETR_EXTERNAL,cv2.CHAIN_APPROX_NONE)\n",
    "            cnt=sorted(ctrs,key=lambda ctr:cv2.boundingRect(ctr)[0])\n",
    "            w=int(28)\n",
    "            h=int(28)\n",
    "            maxi=0\n",
    "            for c in cnt:\n",
    "                x,y,w,h=cv2.boundingRect(c)\n",
    "                maxi=max(w*h,maxi)\n",
    "                if maxi==w*h:\n",
    "                    x_max=x\n",
    "                    y_max=y\n",
    "                    h_max=h\n",
    "                    w_max=w\n",
    "            im_crop=thresh[y_max:y_max+h_max+10,x_max:x_max+w_max+10]\n",
    "            im_resize=cv2.resize(im_crop,(28,28))\n",
    "            im_resize=np.reshape(im_resize,(784,1))\n",
    "            \n",
    "            train_data.append(im_resize)\n",
    "            count+=1\n",
    "            \n",
    "    return train_data"
   ]
  },
  {
   "cell_type": "markdown",
   "metadata": {},
   "source": [
    "# Load the dataset"
   ]
  },
  {
   "cell_type": "code",
   "execution_count": 3,
   "metadata": {},
   "outputs": [],
   "source": [
    "data=[]"
   ]
  },
  {
   "cell_type": "code",
   "execution_count": 4,
   "metadata": {},
   "outputs": [
    {
     "name": "stdout",
     "output_type": "stream",
     "text": [
      "2000\n"
     ]
    }
   ],
   "source": [
    "data = load_images(\"C:/Users/Shivam/Desktop/equatiosolver/extracted_images/-\")\n",
    "for i in range(0,len(data)):\n",
    "    data[i]=np.append(data[i],[\"10\"])\n",
    "print(len(data))"
   ]
  },
  {
   "cell_type": "code",
   "execution_count": 5,
   "metadata": {},
   "outputs": [
    {
     "name": "stdout",
     "output_type": "stream",
     "text": [
      "4000\n"
     ]
    }
   ],
   "source": [
    "data0 = load_images(\"C:/Users/Shivam/Desktop/equatiosolver/extracted_images/+\")\n",
    "for i in range(0,len(data0)):\n",
    "    data0[i]=np.append(data0[i],[\"11\"])\n",
    "data=np.concatenate((data,data0))\n",
    "print(len(data))"
   ]
  },
  {
   "cell_type": "code",
   "execution_count": 6,
   "metadata": {},
   "outputs": [
    {
     "name": "stdout",
     "output_type": "stream",
     "text": [
      "6000\n"
     ]
    }
   ],
   "source": [
    "data0 = load_images(\"C:/Users/Shivam/Desktop/equatiosolver/extracted_images/times\")\n",
    "for i in range(0,len(data0)):\n",
    "    data0[i]=np.append(data0[i],[\"12\"])\n",
    "data=np.concatenate((data,data0))\n",
    "print(len(data))"
   ]
  },
  {
   "cell_type": "code",
   "execution_count": 7,
   "metadata": {},
   "outputs": [
    {
     "name": "stdout",
     "output_type": "stream",
     "text": [
      "8000\n"
     ]
    }
   ],
   "source": [
    "data0 = load_images(\"C:/Users/Shivam/Desktop/equatiosolver/extracted_images/0\")\n",
    "for i in range(0,len(data0)):\n",
    "    data0[i]=np.append(data0[i],[\"0\"])\n",
    "data=np.concatenate((data,data0))\n",
    "print(len(data))"
   ]
  },
  {
   "cell_type": "code",
   "execution_count": 8,
   "metadata": {},
   "outputs": [
    {
     "name": "stdout",
     "output_type": "stream",
     "text": [
      "10000\n"
     ]
    }
   ],
   "source": [
    "data0 = load_images(\"C:/Users/Shivam/Desktop/equatiosolver/extracted_images/1\")\n",
    "for i in range(0,len(data0)):\n",
    "    data0[i]=np.append(data0[i],[\"1\"])\n",
    "data=np.concatenate((data,data0))\n",
    "print(len(data))"
   ]
  },
  {
   "cell_type": "code",
   "execution_count": 9,
   "metadata": {},
   "outputs": [
    {
     "name": "stdout",
     "output_type": "stream",
     "text": [
      "12000\n"
     ]
    }
   ],
   "source": [
    "data0 = load_images(\"C:/Users/Shivam/Desktop/equatiosolver/extracted_images/2\")\n",
    "for i in range(0,len(data0)):\n",
    "    data0[i]=np.append(data0[i],[\"2\"])\n",
    "data=np.concatenate((data,data0))\n",
    "print(len(data))"
   ]
  },
  {
   "cell_type": "code",
   "execution_count": 10,
   "metadata": {},
   "outputs": [
    {
     "name": "stdout",
     "output_type": "stream",
     "text": [
      "14000\n"
     ]
    }
   ],
   "source": [
    "data0 = load_images(\"C:/Users/Shivam/Desktop/equatiosolver/extracted_images/3\")\n",
    "for i in range(0,len(data0)):\n",
    "    data0[i]=np.append(data0[i],[\"3\"])\n",
    "data=np.concatenate((data,data0))\n",
    "print(len(data))"
   ]
  },
  {
   "cell_type": "code",
   "execution_count": 11,
   "metadata": {},
   "outputs": [
    {
     "name": "stdout",
     "output_type": "stream",
     "text": [
      "16000\n"
     ]
    }
   ],
   "source": [
    "data0 = load_images(\"C:/Users/Shivam/Desktop/equatiosolver/extracted_images/4\")\n",
    "for i in range(0,len(data0)):\n",
    "    data0[i]=np.append(data0[i],[\"4\"])\n",
    "data=np.concatenate((data,data0))\n",
    "print(len(data))"
   ]
  },
  {
   "cell_type": "code",
   "execution_count": 12,
   "metadata": {},
   "outputs": [
    {
     "name": "stdout",
     "output_type": "stream",
     "text": [
      "18000\n"
     ]
    }
   ],
   "source": [
    "data0 = load_images(\"C:/Users/Shivam/Desktop/equatiosolver/extracted_images/5\")\n",
    "for i in range(0,len(data0)):\n",
    "    data0[i]=np.append(data0[i],[\"5\"])\n",
    "data=np.concatenate((data,data0))\n",
    "print(len(data))"
   ]
  },
  {
   "cell_type": "code",
   "execution_count": 13,
   "metadata": {},
   "outputs": [
    {
     "name": "stdout",
     "output_type": "stream",
     "text": [
      "20000\n"
     ]
    }
   ],
   "source": [
    "data0 = load_images(\"C:/Users/Shivam/Desktop/equatiosolver/extracted_images/6\")\n",
    "for i in range(0,len(data0)):\n",
    "    data0[i]=np.append(data0[i],[\"6\"])\n",
    "data=np.concatenate((data,data0))\n",
    "print(len(data))"
   ]
  },
  {
   "cell_type": "code",
   "execution_count": 14,
   "metadata": {},
   "outputs": [
    {
     "name": "stdout",
     "output_type": "stream",
     "text": [
      "22000\n"
     ]
    }
   ],
   "source": [
    "data0 = load_images(\"C:/Users/Shivam/Desktop/equatiosolver/extracted_images/7\")\n",
    "for i in range(0,len(data0)):\n",
    "    data0[i]=np.append(data0[i],[\"7\"])\n",
    "data=np.concatenate((data,data0))\n",
    "print(len(data))"
   ]
  },
  {
   "cell_type": "code",
   "execution_count": 15,
   "metadata": {},
   "outputs": [
    {
     "name": "stdout",
     "output_type": "stream",
     "text": [
      "24000\n"
     ]
    }
   ],
   "source": [
    "data0 = load_images(\"C:/Users/Shivam/Desktop/equatiosolver/extracted_images/8\")\n",
    "for i in range(0,len(data0)):\n",
    "    data0[i]=np.append(data0[i],[\"8\"])\n",
    "data=np.concatenate((data,data0))\n",
    "print(len(data))"
   ]
  },
  {
   "cell_type": "code",
   "execution_count": 16,
   "metadata": {},
   "outputs": [
    {
     "name": "stdout",
     "output_type": "stream",
     "text": [
      "26000\n"
     ]
    }
   ],
   "source": [
    "data0 = load_images(\"C:/Users/Shivam/Desktop/equatiosolver/extracted_images/9\")\n",
    "for i in range(0,len(data0)):\n",
    "    data0[i]=np.append(data0[i],[\"9\"])\n",
    "data=np.concatenate((data,data0))\n",
    "print(len(data))"
   ]
  },
  {
   "cell_type": "code",
   "execution_count": 17,
   "metadata": {},
   "outputs": [],
   "source": [
    "df=pd.DataFrame(data,index=None)\n",
    "df.to_csv('train_final.csv',index=False)"
   ]
  },
  {
   "cell_type": "code",
   "execution_count": null,
   "metadata": {},
   "outputs": [],
   "source": []
  }
 ],
 "metadata": {
  "kernelspec": {
   "display_name": "Python 3",
   "language": "python",
   "name": "python3"
  },
  "language_info": {
   "codemirror_mode": {
    "name": "ipython",
    "version": 3
   },
   "file_extension": ".py",
   "mimetype": "text/x-python",
   "name": "python",
   "nbconvert_exporter": "python",
   "pygments_lexer": "ipython3",
   "version": "3.8.3"
  }
 },
 "nbformat": 4,
 "nbformat_minor": 4
}
